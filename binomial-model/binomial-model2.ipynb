{
 "cells": [
  {
   "cell_type": "code",
   "execution_count": 9,
   "id": "1716a882",
   "metadata": {},
   "outputs": [],
   "source": [
    "# Some useful imports\n",
    "import numpy as np\n",
    "import time"
   ]
  },
  {
   "cell_type": "code",
   "execution_count": 10,
   "id": "0ec8907b",
   "metadata": {},
   "outputs": [],
   "source": [
    "def priceAmericanPut(S0, K, T, r, N, u, d):\n",
    "    dp = np.zeros((N+1, N+1))\n",
    "    dt = T / N\n",
    "    R = np.exp(r * dt)\n",
    "    p = (R - d) / (u - d)\n",
    "\n",
    "    for j in range(N+1):\n",
    "        dp[N,j] = max(0, K - S0 * (u**j) * (d**(N-j)))\n",
    "\n",
    "    for i in range(N-1, -1, -1):\n",
    "        for j in range(i+1):\n",
    "            exercise = max(K - S0 * (u**j) * (d**(i-j)), 0)\n",
    "            hold = (1/R) * (p * dp[i+1][j+1] + (1-p) * dp[i+1][j])\n",
    "            dp[i,j] = max(exercise, hold)\n",
    "\n",
    "    return dp[0,0]\n",
    "\n",
    "def priceAmericanPutVectorized(S0, K, T, r, N, u, d):\n",
    "    dp = np.zeros((N+1, N+1))\n",
    "    dt = T / N\n",
    "    R = np.exp(r * dt)\n",
    "    p = (R - d) / (u - d)\n",
    "\n",
    "    dp[N,:] = np.maximum(0, K-S0 * u**(np.arange(0,N+1,1)) * d**(np.arange(N,-1,-1)))\n",
    "\n",
    "    for i in range(N-1, -1, -1):\n",
    "        S = S0 * u**(np.arange(0,i+1,1)) * d**(np.arange(i,-1,-1))\n",
    "        exercise = np.maximum(K-S, 0)\n",
    "        hold = (1/R) * (p*dp[i+1,1:i+2] + (1-p)*dp[i+1,0:i+1])\n",
    "        dp[i,:i+1] = np.maximum(exercise, hold)\n",
    "\n",
    "    return dp[0][0]\n",
    "\n",
    "def priceAmericanPutFast(S0, K, T, r, N, u, d):\n",
    "    S = S0 * u**np.arange(0,N+1,1) * d**np.arange(N,-1,-1)\n",
    "    dp = np.maximum(0, K-S) # in the ith loop, dp contains Cij for j in [0,i]\n",
    "    dt = T / N\n",
    "    discount = np.exp(-r*dt)\n",
    "    p = (np.exp(r*dt)-d) / (u-d)\n",
    "    for i in range(N-1,-1,-1):\n",
    "        S = S0 * u**np.arange(0,i+1,1) * d**np.arange(i,-1,-1)\n",
    "        exercise = np.maximum(0, K-S)\n",
    "        hold = discount * (p*dp[1:i+2] + (1-p)*dp[:i+1])\n",
    "        dp = np.maximum(exercise, hold)\n",
    "    return dp[0]"
   ]
  },
  {
   "cell_type": "code",
   "execution_count": 34,
   "id": "067d0a7a",
   "metadata": {},
   "outputs": [
    {
     "name": "stdout",
     "output_type": "stream",
     "text": [
      "priceAmericanPut: 93.59973577141305  - Temps: 2.4333114624023438 sec\n",
      "priceAmericanPutVectorized: 93.59973577141305  - Temps: 0.09979104995727539 sec\n",
      "priceAmericanPutFast: 93.59973577141305  - Temps: 0.09221506118774414 sec\n"
     ]
    }
   ],
   "source": [
    "# Parameters\n",
    "S0 = 100\n",
    "K = 100\n",
    "T = 1\n",
    "r = 0.06\n",
    "N = 2000\n",
    "u = 1.1\n",
    "d = 1 / u\n",
    "\n",
    "# priceAmericanPut\n",
    "start = time.time()\n",
    "result1 = priceAmericanPut(S0, K, T, r, N, u, d)\n",
    "end = time.time()\n",
    "print(\"priceAmericanPut:\", result1, \" - Temps:\", end - start, \"sec\")\n",
    "\n",
    "# priceAmericanPutVectorized\n",
    "start = time.time()\n",
    "result2 = priceAmericanPutVectorized(S0, K, T, r, N, u, d)\n",
    "end = time.time()\n",
    "print(\"priceAmericanPutVectorized:\", result2, \" - Temps:\", end - start, \"sec\")\n",
    "\n",
    "# priceAmericanPutFast\n",
    "start = time.time()\n",
    "result3 = priceAmericanPutFast(S0, K, T, r, N, u, d)\n",
    "end = time.time()\n",
    "print(\"priceAmericanPutFast:\", result3, \" - Temps:\", end - start, \"sec\")"
   ]
  },
  {
   "cell_type": "code",
   "execution_count": null,
   "id": "685e8228",
   "metadata": {},
   "outputs": [],
   "source": []
  }
 ],
 "metadata": {
  "kernelspec": {
   "display_name": "Python 3",
   "language": "python",
   "name": "python3"
  },
  "language_info": {
   "codemirror_mode": {
    "name": "ipython",
    "version": 3
   },
   "file_extension": ".py",
   "mimetype": "text/x-python",
   "name": "python",
   "nbconvert_exporter": "python",
   "pygments_lexer": "ipython3",
   "version": "3.11.9"
  }
 },
 "nbformat": 4,
 "nbformat_minor": 5
}
