{
 "cells": [
  {
   "cell_type": "markdown",
   "id": "2cba29e5",
   "metadata": {},
   "source": [
    "The stock price on the node $(i,j)$ is given by\n",
    "$$S_{i,j} = S_0 u^j d^{N-j} \\ \\ \\forall i \\in [0,N], \\forall j \\in [0, i]$$\n",
    "Let's denote by $C_{i,j}$ the price of the put on the node $(i,j)$. We have\n",
    "\n",
    "\\begin{cases}\n",
    "    C_{N,j} = (K-S_{N,j})_+ \\ \\forall j \\in [0,N] \\\\\n",
    "    C_{i,j} = \\text{max} \\left((K-S_{i,j})_+ , e^{- r \\Delta t} \\left(p C_{i+1, j+1} + q C_{i+1, j} \\right) \\right)\n",
    "\\end{cases}\n",
    "where $p$ is the probability to go up under $\\mathbb{P}^*$, given by\n",
    "$$p = \\frac{e^{r \\Delta t} - d}{u-d}$$\n",
    "To show this, we first prove that \n",
    "$$\\mathbb{E}^* \\left( T_n \\ \\middle| \\ \\mathbb{F}_{n-1} \\right) = e^{r\\Delta t}$$\n",
    "with $S_{n+1} = T_{n+1} S_n$. And then we write\n",
    "$$\\mathbb{E}^* \\left( T_n \\right) = u \\mathbb{P}^* (T_n=u) + d \\mathbb{P}^* (T_n = d)$$\n",
    "We then set $q=1-p$."
   ]
  },
  {
   "cell_type": "markdown",
   "id": "ab42a5be",
   "metadata": {},
   "source": [
    "# Implementation"
   ]
  },
  {
   "cell_type": "code",
   "execution_count": 17,
   "id": "6b3e7483",
   "metadata": {},
   "outputs": [],
   "source": [
    "# Some useful imports\n",
    "import numpy as np"
   ]
  },
  {
   "cell_type": "code",
   "execution_count": 18,
   "id": "66c95750",
   "metadata": {},
   "outputs": [],
   "source": [
    "def pricing_american_put(S0, K, T, r, N, u, d):\n",
    "    C = np.zeros(N+1) # in the loop i, C[j] is the price of the option for j ups\n",
    "    dt = T/N\n",
    "    disc = np.exp(-r*dt)\n",
    "    p = (np.exp(r*dt)-d) / (u-d)\n",
    "    # Initialisation\n",
    "    SN = S0 * u**(np.arange(0,N+1,1)) * d**(np.arange(N,-1,-1))\n",
    "    C = np.maximum(K-SN, 0)\n",
    "\n",
    "    for i in range(N-1, -1, -1):\n",
    "        S = S0 * u**(np.arange(0,i+1,1)) * d**(np.arange(i,-1,-1))\n",
    "        C[:i+1] = np.maximum(np.maximum(K-S, 0), disc*(p * C[1:i+2] + (1-p) * C[:i+1]))\n",
    "    \n",
    "    return C[0]"
   ]
  },
  {
   "cell_type": "code",
   "execution_count": 19,
   "id": "34538fd7",
   "metadata": {},
   "outputs": [
    {
     "name": "stdout",
     "output_type": "stream",
     "text": [
      "4.654588754602527\n"
     ]
    }
   ],
   "source": [
    "# Parameters\n",
    "S0 = 100\n",
    "K = 100\n",
    "T = 1\n",
    "r = 0.06\n",
    "N = 3\n",
    "u = 1.1\n",
    "d = 1 / u\n",
    "\n",
    "print(pricing_american_put(S0, K, T, r, N, u, d))"
   ]
  }
 ],
 "metadata": {
  "kernelspec": {
   "display_name": "base",
   "language": "python",
   "name": "python3"
  },
  "language_info": {
   "codemirror_mode": {
    "name": "ipython",
    "version": 3
   },
   "file_extension": ".py",
   "mimetype": "text/x-python",
   "name": "python",
   "nbconvert_exporter": "python",
   "pygments_lexer": "ipython3",
   "version": "3.12.7"
  }
 },
 "nbformat": 4,
 "nbformat_minor": 5
}
